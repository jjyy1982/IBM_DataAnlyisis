{
 "cells": [
  {
   "cell_type": "code",
   "execution_count": 6,
   "id": "4bed9df7",
   "metadata": {},
   "outputs": [],
   "source": [
    "from bs4 import BeautifulSoup\n",
    "import pandas as pd\n",
    "import numpy as np\n",
    "import yfinance as yf"
   ]
  },
  {
   "cell_type": "code",
   "execution_count": 40,
   "id": "bb201327",
   "metadata": {},
   "outputs": [
    {
     "data": {
      "text/html": [
       "<div>\n",
       "<style scoped>\n",
       "    .dataframe tbody tr th:only-of-type {\n",
       "        vertical-align: middle;\n",
       "    }\n",
       "\n",
       "    .dataframe tbody tr th {\n",
       "        vertical-align: top;\n",
       "    }\n",
       "\n",
       "    .dataframe thead th {\n",
       "        text-align: right;\n",
       "    }\n",
       "</style>\n",
       "<table border=\"1\" class=\"dataframe\">\n",
       "  <thead>\n",
       "    <tr style=\"text-align: right;\">\n",
       "      <th></th>\n",
       "      <th>Date</th>\n",
       "      <th>Open</th>\n",
       "      <th>High</th>\n",
       "      <th>Low</th>\n",
       "      <th>Close</th>\n",
       "      <th>Volume</th>\n",
       "      <th>Dividends</th>\n",
       "      <th>Stock Splits</th>\n",
       "    </tr>\n",
       "  </thead>\n",
       "  <tbody>\n",
       "    <tr>\n",
       "      <th>0</th>\n",
       "      <td>2010-06-29</td>\n",
       "      <td>19.000000</td>\n",
       "      <td>25.000000</td>\n",
       "      <td>17.540001</td>\n",
       "      <td>23.889999</td>\n",
       "      <td>18783276</td>\n",
       "      <td>0</td>\n",
       "      <td>0.0</td>\n",
       "    </tr>\n",
       "    <tr>\n",
       "      <th>1</th>\n",
       "      <td>2010-06-30</td>\n",
       "      <td>25.959999</td>\n",
       "      <td>30.419201</td>\n",
       "      <td>23.299999</td>\n",
       "      <td>23.830000</td>\n",
       "      <td>17194394</td>\n",
       "      <td>0</td>\n",
       "      <td>0.0</td>\n",
       "    </tr>\n",
       "    <tr>\n",
       "      <th>2</th>\n",
       "      <td>2010-07-01</td>\n",
       "      <td>25.000000</td>\n",
       "      <td>25.920000</td>\n",
       "      <td>20.270000</td>\n",
       "      <td>21.959999</td>\n",
       "      <td>8216789</td>\n",
       "      <td>0</td>\n",
       "      <td>0.0</td>\n",
       "    </tr>\n",
       "    <tr>\n",
       "      <th>3</th>\n",
       "      <td>2010-07-02</td>\n",
       "      <td>23.000000</td>\n",
       "      <td>23.100000</td>\n",
       "      <td>18.709999</td>\n",
       "      <td>19.200001</td>\n",
       "      <td>5135795</td>\n",
       "      <td>0</td>\n",
       "      <td>0.0</td>\n",
       "    </tr>\n",
       "    <tr>\n",
       "      <th>4</th>\n",
       "      <td>2010-07-06</td>\n",
       "      <td>20.000000</td>\n",
       "      <td>20.000000</td>\n",
       "      <td>15.830000</td>\n",
       "      <td>16.110001</td>\n",
       "      <td>6852634</td>\n",
       "      <td>0</td>\n",
       "      <td>0.0</td>\n",
       "    </tr>\n",
       "  </tbody>\n",
       "</table>\n",
       "</div>"
      ],
      "text/plain": [
       "        Date       Open       High        Low      Close    Volume  Dividends  \\\n",
       "0 2010-06-29  19.000000  25.000000  17.540001  23.889999  18783276          0   \n",
       "1 2010-06-30  25.959999  30.419201  23.299999  23.830000  17194394          0   \n",
       "2 2010-07-01  25.000000  25.920000  20.270000  21.959999   8216789          0   \n",
       "3 2010-07-02  23.000000  23.100000  18.709999  19.200001   5135795          0   \n",
       "4 2010-07-06  20.000000  20.000000  15.830000  16.110001   6852634          0   \n",
       "\n",
       "   Stock Splits  \n",
       "0           0.0  \n",
       "1           0.0  \n",
       "2           0.0  \n",
       "3           0.0  \n",
       "4           0.0  "
      ]
     },
     "execution_count": 40,
     "metadata": {},
     "output_type": "execute_result"
    }
   ],
   "source": [
    "'''\n",
    "问题1:使用yfinance提取股票数据\n",
    "重置索引，保存，并使用head函数显示tesla_data数据帧的前5行。\n",
    "将问题1开头的截图和代码上传到下面的结果中。\n",
    "'''\n",
    "\n",
    "tesla_data=yf.Ticker('TSLA')\n",
    "tesla_data1=tesla_data.history(period='max')\n",
    "tesla_data1.reset_index(inplace=True)\n",
    "tesla_data1.head(5)"
   ]
  },
  {
   "cell_type": "code",
   "execution_count": null,
   "id": "2d17f4e2",
   "metadata": {},
   "outputs": [],
   "source": [
    "'''\n",
    "问题2:使用web抓取提取特斯拉的收入数据\n",
    "使用tail函数显示tesla_revenue数据帧的最后五行。上传结果的截图。\n",
    "'''\n"
   ]
  },
  {
   "cell_type": "code",
   "execution_count": 27,
   "id": "fe240a26",
   "metadata": {},
   "outputs": [
    {
     "data": {
      "text/html": [
       "<div>\n",
       "<style scoped>\n",
       "    .dataframe tbody tr th:only-of-type {\n",
       "        vertical-align: middle;\n",
       "    }\n",
       "\n",
       "    .dataframe tbody tr th {\n",
       "        vertical-align: top;\n",
       "    }\n",
       "\n",
       "    .dataframe thead th {\n",
       "        text-align: right;\n",
       "    }\n",
       "</style>\n",
       "<table border=\"1\" class=\"dataframe\">\n",
       "  <thead>\n",
       "    <tr style=\"text-align: right;\">\n",
       "      <th></th>\n",
       "      <th>Revenue</th>\n",
       "    </tr>\n",
       "    <tr>\n",
       "      <th>Year</th>\n",
       "      <th></th>\n",
       "    </tr>\n",
       "  </thead>\n",
       "  <tbody>\n",
       "    <tr>\n",
       "      <th>2017</th>\n",
       "      <td>11759000000</td>\n",
       "    </tr>\n",
       "    <tr>\n",
       "      <th>2018</th>\n",
       "      <td>21461000000</td>\n",
       "    </tr>\n",
       "    <tr>\n",
       "      <th>2019</th>\n",
       "      <td>24578000000</td>\n",
       "    </tr>\n",
       "    <tr>\n",
       "      <th>2020</th>\n",
       "      <td>31536000000</td>\n",
       "    </tr>\n",
       "  </tbody>\n",
       "</table>\n",
       "</div>"
      ],
      "text/plain": [
       "          Revenue\n",
       "Year             \n",
       "2017  11759000000\n",
       "2018  21461000000\n",
       "2019  24578000000\n",
       "2020  31536000000"
      ]
     },
     "execution_count": 27,
     "metadata": {},
     "output_type": "execute_result"
    }
   ],
   "source": [
    "\n",
    "tesla_revenue=tesla_data.earnings\n",
    "tesla_revenue[['Revenue']].tail()\n",
    "# dir(tesla_data)"
   ]
  },
  {
   "cell_type": "code",
   "execution_count": 34,
   "id": "2f99cdb0",
   "metadata": {},
   "outputs": [
    {
     "data": {
      "text/plain": [
       "Year\n",
       "2017    11759000000\n",
       "2018    21461000000\n",
       "2019    24578000000\n",
       "2020    31536000000\n",
       "Name: Revenue, dtype: int64"
      ]
     },
     "execution_count": 34,
     "metadata": {},
     "output_type": "execute_result"
    }
   ],
   "source": [
    "tesla_data.get_earnings().tail(5)['Revenue']"
   ]
  },
  {
   "cell_type": "code",
   "execution_count": 52,
   "id": "fb3feb17",
   "metadata": {},
   "outputs": [
    {
     "name": "stdout",
     "output_type": "stream",
     "text": [
      "        Date       Open       High        Low      Close    Volume  Dividends  \\\n",
      "0 2010-06-29  19.000000  25.000000  17.540001  23.889999  18783276          0   \n",
      "1 2010-06-30  25.959999  30.419201  23.299999  23.830000  17194394          0   \n",
      "2 2010-07-01  25.000000  25.920000  20.270000  21.959999   8216789          0   \n",
      "3 2010-07-02  23.000000  23.100000  18.709999  19.200001   5135795          0   \n",
      "4 2010-07-06  20.000000  20.000000  15.830000  16.110001   6852634          0   \n",
      "\n",
      "   Stock Splits  \n",
      "0           0.0  \n",
      "1           0.0  \n",
      "2           0.0  \n",
      "3           0.0  \n",
      "4           0.0  \n"
     ]
    }
   ],
   "source": [
    "'''\n",
    "问题3:使用yfinance提取股票数据\n",
    "重置索引，保存，并使用head函数显示gme_data数据帧的前5行。\n",
    "将问题1开头的截图和代码上传到下面的结果中。\n",
    "'''\n",
    "tesla_data=yf.Ticker('TSLA')\n",
    "tesla_data1=tesla_data.history(period='max')\n",
    "tesla_data1.reset_index(inplace=True)\n",
    "gme_data =tesla_data1.head(5)\n",
    "print(gme_data)\n",
    "tesla_data1.to_csv('Tsla.csv')\n"
   ]
  },
  {
   "cell_type": "code",
   "execution_count": 65,
   "id": "cd3bac89",
   "metadata": {},
   "outputs": [
    {
     "data": {
      "text/plain": [
       "Year\n",
       "2018    8547100000\n",
       "2019    8285300000\n",
       "2020    6466000000\n",
       "2021    5089800000\n",
       "Name: Revenue, dtype: int64"
      ]
     },
     "execution_count": 65,
     "metadata": {},
     "output_type": "execute_result"
    }
   ],
   "source": [
    "'''\n",
    "问题4:使用web抓取来提取GME收益数据\n",
    "使用tail函数显示gme_revenue数据帧的最后五行。上传结果的截图。\n",
    "'''\n",
    "gme=yf.Ticker('GME')\n",
    "gme_data=gme.history(period='max')\n",
    "gme_data.reset_index(inplace=True)\n",
    "gme.get_earnings().tail(5)['Revenue']"
   ]
  },
  {
   "cell_type": "code",
   "execution_count": 58,
   "id": "e52f6d12",
   "metadata": {},
   "outputs": [
    {
     "data": {
      "image/png": "[encoded data removed]",
      "text/plain": [
       "<Figure size 1080x360 with 1 Axes>"
      ]
     },
     "metadata": {
      "needs_background": "light"
     },
     "output_type": "display_data"
    }
   ],
   "source": [
    "'''\n",
    "问题5:绘制特斯拉股票图\n",
    "使用make_graph函数绘制特斯拉股票数据图，并为图提供标题。\n",
    "上传结果的截图。\n",
    "'''\n",
    "import matplotlib.pyplot as plt\n",
    "def make_graph(df):\n",
    "    df.plot(x='Date',y='Close',figsize=(15,5))\n",
    "    plt.title('tesla stock chart')\n",
    "    plt.xlabel('Date')\n",
    "    plt.ylabel('Close')\n",
    "\n",
    "make_graph(tesla_data1)"
   ]
  },
  {
   "cell_type": "code",
   "execution_count": 67,
   "id": "d1cc2b65",
   "metadata": {},
   "outputs": [
    {
     "data": {
      "image/png": "[encoded data removed]",
      "text/plain": [
       "<Figure size 1080x216 with 1 Axes>"
      ]
     },
     "metadata": {
      "needs_background": "light"
     },
     "output_type": "display_data"
    }
   ],
   "source": [
    "'''\n",
    "问题六 ：\n",
    "问题6:绘制GameStop股票图表\n",
    "使用make_graph函数来绘制GameStop股票数据，并为该图形提供一个标题。\n",
    "上传结果的截图\n",
    "'''\n",
    "\n",
    "import matplotlib.pyplot as plt\n",
    "\n",
    "\n",
    "def make_graph(df):\n",
    "    df.plot(x='Date',y='Close',figsize=(15,3))\n",
    "    plt.title('GameStop stock chart')\n",
    "    plt.xlabel('Date')\n",
    "    plt.ylabel('Close')\n",
    "    \n",
    "make_graph(gme_data)"
   ]
  },
  {
   "cell_type": "code",
   "execution_count": null,
   "id": "6b1193f8",
   "metadata": {},
   "outputs": [],
   "source": []
  }
 ],
 "metadata": {
  "kernelspec": {
   "display_name": "Python 3",
   "language": "python",
   "name": "python3"
  },
  "language_info": {
   "codemirror_mode": {
    "name": "ipython",
    "version": 3
   },
   "file_extension": ".py",
   "mimetype": "text/x-python",
   "name": "python",
   "nbconvert_exporter": "python",
   "pygments_lexer": "ipython3",
   "version": "3.8.8"
  }
 },
 "nbformat": 4,
 "nbformat_minor": 5
}
